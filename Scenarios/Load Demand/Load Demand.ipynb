{
 "cells": [
  {
   "cell_type": "code",
   "execution_count": 99,
   "metadata": {
    "collapsed": true,
    "ExecuteTime": {
     "end_time": "2024-02-05T21:20:56.744625200Z",
     "start_time": "2024-02-05T21:20:56.723517200Z"
    }
   },
   "outputs": [],
   "source": [
    "import pandas as pd"
   ]
  },
  {
   "cell_type": "code",
   "execution_count": 45,
   "outputs": [],
   "source": [
    "# Derived for, buildstock.csv\n",
    "HarrisCountyIn = [\"G48004612\", \"G48004623\", \"G48004630\", \"G48004603\",\n",
    "                     \"G48004609\", \"G48004637\", \"G48004621\", \"G48004603\",\n",
    "                     \"G48004630\",\"G48004614\",\"G48004610\",\"G48004633\",\n",
    "                     \"G48004604\",\"G48004632\", \"G48004604\", \"G48004618\", \"G48004701\"]\n",
    "HarrisCountyBldId = [47,123,149,183,405,411,480,519,582,729,753,763,845,854,879,919]"
   ],
   "metadata": {
    "collapsed": false,
    "ExecuteTime": {
     "end_time": "2024-02-05T19:49:41.704790800Z",
     "start_time": "2024-02-05T19:49:41.678881100Z"
    }
   }
  },
  {
   "cell_type": "code",
   "execution_count": 28,
   "outputs": [],
   "source": [
    "parquet_file = 'metadata.parquet'\n",
    "All_Data = pd.read_parquet(parquet_file, engine='pyarrow')"
   ],
   "metadata": {
    "collapsed": false,
    "ExecuteTime": {
     "end_time": "2024-02-05T18:51:41.276546800Z",
     "start_time": "2024-02-05T18:51:36.242362900Z"
    }
   }
  },
  {
   "cell_type": "code",
   "execution_count": 30,
   "outputs": [],
   "source": [
    "Texas_Data = All_Data[All_Data['in.state_name'] == 'Texas']\n",
    "Texas_Data['bldg_id'] = Texas_Data.index"
   ],
   "metadata": {
    "collapsed": false,
    "ExecuteTime": {
     "end_time": "2024-02-05T18:52:25.263040700Z",
     "start_time": "2024-02-05T18:52:24.986344600Z"
    }
   }
  },
  {
   "cell_type": "code",
   "execution_count": 96,
   "outputs": [],
   "source": [
    "TexasHarris_Data = Texas_Data[Texas_Data['bldg_id'] == HarrisCountyBldId[0]]\n",
    "for i in HarrisCountyBldId[1:]:\n",
    "    TexasHarris_Data = pd.concat((TexasHarris_Data, Texas_Data[Texas_Data['bldg_id'] == i]))\n",
    "TexasHarris_Data.to_csv('TexasHarrisCountyBldgs.csv')"
   ],
   "metadata": {
    "collapsed": false,
    "ExecuteTime": {
     "end_time": "2024-02-05T20:05:39.936150800Z",
     "start_time": "2024-02-05T20:05:39.865950Z"
    }
   }
  },
  {
   "cell_type": "code",
   "execution_count": null,
   "outputs": [],
   "source": [],
   "metadata": {
    "collapsed": false
   }
  }
 ],
 "metadata": {
  "kernelspec": {
   "display_name": "Python 3",
   "language": "python",
   "name": "python3"
  },
  "language_info": {
   "codemirror_mode": {
    "name": "ipython",
    "version": 2
   },
   "file_extension": ".py",
   "mimetype": "text/x-python",
   "name": "python",
   "nbconvert_exporter": "python",
   "pygments_lexer": "ipython2",
   "version": "2.7.6"
  }
 },
 "nbformat": 4,
 "nbformat_minor": 0
}
