{
 "cells": [
  {
   "cell_type": "code",
   "execution_count": 1,
   "metadata": {
    "collapsed": true,
    "ExecuteTime": {
     "end_time": "2024-02-13T18:57:40.937291600Z",
     "start_time": "2024-02-13T18:57:36.225496300Z"
    }
   },
   "outputs": [],
   "source": [
    "import tensorflow as tf\n",
    "from keras import layers, Model\n",
    "import numpy as np\n",
    "import datetime\n",
    "import matplotlib.pyplot as plt\n",
    "%matplotlib inline\n",
    "import pandas as pd\n",
    "from tensorflow.python.framework.ops import enable_eager_execution\n",
    "enable_eager_execution()\n",
    "\n",
    "# gpus = tf.config.experimental.list_physical_devices('GPU')\n",
    "# for gpu in gpus:\n",
    "# tf.config.experimental.reset_memory_stats(gpu, True)\n",
    "\n",
    "tf.config.run_functions_eagerly(True)\n",
    "\n",
    "from keras.callbacks import Callback\n",
    "\n",
    "from keras.models import Sequential\n",
    "from keras.layers import Conv2D, Dense, Flatten, Reshape, LeakyReLU, Dropout, UpSampling2D, ConvLSTM1D, LSTM\n",
    "\n",
    "from keras.optimizers import Adam\n",
    "from keras.losses import BinaryCrossentropy\n",
    "from keras.models import Model\n",
    "from sklearn.preprocessing import MinMaxScaler"
   ]
  },
  {
   "cell_type": "code",
   "execution_count": 71,
   "outputs": [],
   "source": [
    "my_data = pd.read_csv('HarrisCounty/ForGAN/JulAug.csv')\n",
    "ds_w = []\n",
    "ds_e = []\n",
    "for c in my_data.columns:\n",
    "    if 'weekday' in c:\n",
    "        ds_w.append(my_data[c].values)\n",
    "    else:\n",
    "        ds_e.append(my_data[c].values)\n",
    "\n",
    "max_w =  np.max(ds_w)\n",
    "max_e = np.max(ds_e)\n",
    "ds_w = np.divide(ds_w, 1.1 * max_w)\n",
    "ds_e = np.divide(ds_e, 1.1 * max_e)\n",
    "ds_w1 = ds_w\n",
    "ds_w = tf.data.Dataset.from_tensor_slices(ds_w)\n",
    "ds_e = tf.data.Dataset.from_tensor_slices(ds_e)\n"
   ],
   "metadata": {
    "collapsed": false,
    "ExecuteTime": {
     "end_time": "2024-02-13T19:49:15.911310500Z",
     "start_time": "2024-02-13T19:49:15.864242100Z"
    }
   }
  },
  {
   "cell_type": "code",
   "execution_count": 54,
   "outputs": [
    {
     "data": {
      "text/plain": "(96,)"
     },
     "execution_count": 54,
     "metadata": {},
     "output_type": "execute_result"
    }
   ],
   "source": [
    "ds_w.as_numpy_iterator().next().shape\n"
   ],
   "metadata": {
    "collapsed": false,
    "ExecuteTime": {
     "end_time": "2024-02-13T19:27:52.702312400Z",
     "start_time": "2024-02-13T19:27:52.678902500Z"
    }
   }
  },
  {
   "cell_type": "markdown",
   "source": [
    "### Prepare data to feed into GAN"
   ],
   "metadata": {
    "collapsed": false
   }
  },
  {
   "cell_type": "code",
   "execution_count": 72,
   "outputs": [],
   "source": [
    "batch_size = 15\n",
    "ds_w = ds_w.cache()\n",
    "ds_w = ds_w.shuffle(1000)\n",
    "ds_w = ds_w.batch(batch_size)\n",
    "ds_w = ds_w.prefetch(64)"
   ],
   "metadata": {
    "collapsed": false,
    "ExecuteTime": {
     "end_time": "2024-02-13T19:49:18.281782900Z",
     "start_time": "2024-02-13T19:49:18.271132200Z"
    }
   }
  },
  {
   "cell_type": "markdown",
   "source": [
    "## Generator Discriminator Training"
   ],
   "metadata": {
    "collapsed": false
   }
  },
  {
   "cell_type": "code",
   "execution_count": 105,
   "outputs": [
    {
     "name": "stdout",
     "output_type": "stream",
     "text": [
      "Model: \"sequential_38\"\n",
      "_________________________________________________________________\n",
      " Layer (type)                Output Shape              Param #   \n",
      "=================================================================\n",
      " lstm_72 (LSTM)              (None, 96, 5)             420       \n",
      "                                                                 \n",
      " leaky_re_lu_59 (LeakyReLU)  (None, 96, 5)             0         \n",
      "                                                                 \n",
      " lstm_73 (LSTM)              (None, 96, 5)             220       \n",
      "                                                                 \n",
      " leaky_re_lu_60 (LeakyReLU)  (None, 96, 5)             0         \n",
      "                                                                 \n",
      " dense_37 (Dense)            (None, 96, 1)             6         \n",
      "                                                                 \n",
      "=================================================================\n",
      "Total params: 646\n",
      "Trainable params: 646\n",
      "Non-trainable params: 0\n",
      "_________________________________________________________________\n"
     ]
    }
   ],
   "source": [
    "g_relu = 0.1\n",
    "lstm_unit = 5\n",
    "def build_generator():\n",
    "    model = Sequential()\n",
    "    model.add(LSTM(lstm_unit, activation='tanh', return_sequences=True,\n",
    "               input_shape=(96, batch_size)))  # returns a sequence of vectors of dimension lstm_unit\n",
    "    model.add(LeakyReLU(d_relu))\n",
    "\n",
    "    model.add(LSTM(lstm_unit, return_sequences=True))  # returns a sequence of vectors of dimension lstm_unit\n",
    "    model.add(LeakyReLU(d_relu))\n",
    "\n",
    "    model.add(Dense(1, activation='sigmoid'))\n",
    "    return model\n",
    "generator = build_generator()\n",
    "generator.summary()\n",
    "# plt.plot(generator.predict(np.random.randn(1, 96, 15))[0])\n",
    "#plt.plot(series[0].reshape([96]))"
   ],
   "metadata": {
    "collapsed": false,
    "ExecuteTime": {
     "end_time": "2024-02-13T20:21:26.342743700Z",
     "start_time": "2024-02-13T20:21:25.913472400Z"
    }
   }
  },
  {
   "cell_type": "code",
   "execution_count": 106,
   "outputs": [
    {
     "name": "stdout",
     "output_type": "stream",
     "text": [
      "Model: \"sequential_39\"\n",
      "_________________________________________________________________\n",
      " Layer (type)                Output Shape              Param #   \n",
      "=================================================================\n",
      " lstm_74 (LSTM)              (None, 96, 5)             140       \n",
      "                                                                 \n",
      " leaky_re_lu_61 (LeakyReLU)  (None, 96, 5)             0         \n",
      "                                                                 \n",
      " dropout_41 (Dropout)        (None, 96, 5)             0         \n",
      "                                                                 \n",
      " lstm_75 (LSTM)              (None, 96, 5)             220       \n",
      "                                                                 \n",
      " flatten_18 (Flatten)        (None, 480)               0         \n",
      "                                                                 \n",
      " dense_38 (Dense)            (None, 1)                 481       \n",
      "                                                                 \n",
      "=================================================================\n",
      "Total params: 841\n",
      "Trainable params: 841\n",
      "Non-trainable params: 0\n",
      "_________________________________________________________________\n"
     ]
    }
   ],
   "source": [
    "d_relu = 0.1\n",
    "d_dropout = 0.2\n",
    "def build_discriminator():\n",
    "    model = Sequential()\n",
    "\n",
    "    model.add(LSTM(lstm_unit, return_sequences=True,\n",
    "               input_shape=(96, 1)))\n",
    "    model.add(LeakyReLU(d_relu))\n",
    "    model.add(Dropout(d_dropout))\n",
    "\n",
    "    model.add(LSTM(lstm_unit, return_sequences=True,\n",
    "               input_shape=(96, 1)))\n",
    "    model.add(Flatten())\n",
    "    #model.add(Dropout(d_dropout))\n",
    "    model.add(Dense(1, activation='sigmoid'))\n",
    "    return model\n",
    "\n",
    "discriminator = build_discriminator()\n",
    "discriminator.summary()\n",
    "# Single prediction needs np.expand_dims(series[0], 0)\n",
    "# discriminator.predict(ds_w.as_numpy_iterator().next())"
   ],
   "metadata": {
    "collapsed": false,
    "ExecuteTime": {
     "end_time": "2024-02-13T20:21:28.624499300Z",
     "start_time": "2024-02-13T20:21:28.189440400Z"
    }
   }
  },
  {
   "cell_type": "code",
   "execution_count": 107,
   "outputs": [],
   "source": [
    "g_a, d_a = 0.0001, 0.00001\n",
    "g_opt = Adam(learning_rate=g_a)\n",
    "d_opt = Adam(learning_rate=d_a)  # Does not learn too fast\n",
    "g_loss = BinaryCrossentropy()\n",
    "d_loss = BinaryCrossentropy()\n",
    "class LoadGAN(Model):\n",
    "    def __init__(self, generator, discriminator, *args, **kwargs):\n",
    "        # pass through args and kwargs to base class\n",
    "        super().__init__(*args, **kwargs)\n",
    "        # Create attributes for gen and disc\n",
    "        self.generator = generator\n",
    "        self.discriminator = discriminator\n",
    "\n",
    "    def compilee(self, g_opt, d_opt, g_loss, d_loss, *args, **kwargs):\n",
    "        # Compile with base class\n",
    "        super().compile(*args, **kwargs)\n",
    "\n",
    "        self.g_opt = g_opt\n",
    "        self.d_opt = d_opt\n",
    "        self.g_loss = g_loss\n",
    "        self.d_loss = d_loss\n",
    "\n",
    "    def train_step(self, batch):\n",
    "        real_series = batch\n",
    "        fake_series = self.generator(tf.random.normal((batch_size, 96, batch_size)), training=False)\n",
    "\n",
    "        # train the discriminator\n",
    "        with tf.GradientTape() as d_tape:\n",
    "            # pass the real and fake images\n",
    "            yhat_real = self.discriminator(real_series, training=True)\n",
    "            yhat_fake = self.discriminator(fake_series, training=True)\n",
    "            yhat_realfake = tf.concat([yhat_real, yhat_fake], axis=0)\n",
    "\n",
    "            # create labels for real and fake series\n",
    "            y_realfake = tf.concat([tf.zeros_like(yhat_real), tf.ones_like(yhat_fake)], axis=0)\n",
    "\n",
    "\n",
    "            # pass through and add some noise to the outputs\n",
    "            noise_real = 0.2*tf.random.uniform(tf.shape(yhat_real))\n",
    "            noise_fake = 0.2*tf.random.uniform(tf.shape(yhat_fake))\n",
    "            y_realfake += tf.concat([noise_real, noise_fake], axis=0)\n",
    "\n",
    "            # calculate the loss\n",
    "            total_d_loss = self.d_loss(y_realfake, yhat_realfake)\n",
    "\n",
    "        # apply backpropagation\n",
    "        dgrad = d_tape.gradient(total_d_loss, self.discriminator.trainable_variables)\n",
    "        self.d_opt.apply_gradients(zip(dgrad, self.discriminator.trainable_variables))\n",
    "\n",
    "        # Generator training\n",
    "        with tf.GradientTape() as g_tape:\n",
    "            # generate same new images\n",
    "            gen_series = self.generator(tf.random.normal((batch_size, 96, batch_size)), training=True)\n",
    "\n",
    "            # create the predicted labels\n",
    "            predicted_labels = self.discriminator(gen_series, training=False)\n",
    "\n",
    "            # calculate loss\n",
    "            total_g_loss = self.g_loss(tf.zeros_like(predicted_labels), predicted_labels)\n",
    "\n",
    "        # apply backpropagation\n",
    "        ggrad = g_tape.gradient(total_g_loss, self.generator.trainable_variables)\n",
    "        self.g_opt.apply_gradients(zip(ggrad, self.generator.trainable_variables))\n",
    "\n",
    "        return {\"d_loss\":total_d_loss, \"g_loss\":total_g_loss}\n",
    "loadgan = LoadGAN(generator, discriminator)\n",
    "loadgan.compilee(g_opt, d_opt, g_loss, d_loss)"
   ],
   "metadata": {
    "collapsed": false,
    "ExecuteTime": {
     "end_time": "2024-02-13T20:21:31.295697200Z",
     "start_time": "2024-02-13T20:21:31.249699800Z"
    }
   }
  },
  {
   "cell_type": "markdown",
   "source": [
    "#### Call Back"
   ],
   "metadata": {
    "collapsed": false
   }
  },
  {
   "cell_type": "code",
   "execution_count": 108,
   "outputs": [],
   "source": [
    "class ModelMonitor(Callback):\n",
    "    def __init__(self, num_img=4, latent_dim=batch_size):\n",
    "        self.num_img = num_img\n",
    "        self.latent_dim = latent_dim\n",
    "\n",
    "    def on_epoch_end(self, epoch, logs=None):\n",
    "        random_latent_vector = tf.random.normal((self.num_img, 96, self.latent_dim))\n",
    "        generated_series = self.model.generator(random_latent_vector)\n",
    "        generated_series *= max_w\n",
    "        generated_series.numpy()\n",
    "        for i in range(self.num_img):\n",
    "            serie = generated_series[i]\n",
    "            #serie.save(os.path.join('series', f'generated_img_{epoch}_{i}.png'))"
   ],
   "metadata": {
    "collapsed": false,
    "ExecuteTime": {
     "end_time": "2024-02-13T20:21:35.084254100Z",
     "start_time": "2024-02-13T20:21:35.062867Z"
    }
   }
  },
  {
   "cell_type": "markdown",
   "source": [
    "#### Train"
   ],
   "metadata": {
    "collapsed": false
   }
  },
  {
   "cell_type": "code",
   "execution_count": 109,
   "outputs": [
    {
     "name": "stdout",
     "output_type": "stream",
     "text": [
      "Epoch 1/100\n",
      "13/13 [==============================] - 30s 2s/step - d_loss: 0.6915 - g_loss: 0.7214\n",
      "Epoch 2/100\n",
      "13/13 [==============================] - 28s 2s/step - d_loss: 0.6910 - g_loss: 0.7228\n",
      "Epoch 3/100\n",
      "13/13 [==============================] - 28s 2s/step - d_loss: 0.6906 - g_loss: 0.7244\n",
      "Epoch 4/100\n",
      "13/13 [==============================] - 24s 2s/step - d_loss: 0.6904 - g_loss: 0.7259\n",
      "Epoch 5/100\n",
      "13/13 [==============================] - 21s 2s/step - d_loss: 0.6896 - g_loss: 0.7276\n",
      "Epoch 6/100\n",
      "13/13 [==============================] - 22s 2s/step - d_loss: 0.6899 - g_loss: 0.7291\n",
      "Epoch 7/100\n",
      "13/13 [==============================] - 28s 2s/step - d_loss: 0.6892 - g_loss: 0.7308\n",
      "Epoch 8/100\n",
      "13/13 [==============================] - 28s 2s/step - d_loss: 0.6889 - g_loss: 0.7323\n",
      "Epoch 9/100\n",
      "13/13 [==============================] - 30s 2s/step - d_loss: 0.6883 - g_loss: 0.7339\n",
      "Epoch 10/100\n",
      "13/13 [==============================] - 28s 2s/step - d_loss: 0.6887 - g_loss: 0.7356\n",
      "Epoch 11/100\n",
      "13/13 [==============================] - 24s 2s/step - d_loss: 0.6880 - g_loss: 0.7371\n",
      "Epoch 12/100\n",
      "13/13 [==============================] - 23s 2s/step - d_loss: 0.6878 - g_loss: 0.7387\n",
      "Epoch 13/100\n",
      "13/13 [==============================] - 24s 2s/step - d_loss: 0.6869 - g_loss: 0.7404\n",
      "Epoch 14/100\n",
      "13/13 [==============================] - 33s 3s/step - d_loss: 0.6869 - g_loss: 0.7422\n",
      "Epoch 15/100\n",
      "13/13 [==============================] - 27s 2s/step - d_loss: 0.6863 - g_loss: 0.7439\n",
      "Epoch 16/100\n",
      "13/13 [==============================] - 25s 2s/step - d_loss: 0.6871 - g_loss: 0.7457\n",
      "Epoch 17/100\n",
      "13/13 [==============================] - 26s 2s/step - d_loss: 0.6860 - g_loss: 0.7473\n",
      "Epoch 18/100\n",
      "13/13 [==============================] - 32s 2s/step - d_loss: 0.6861 - g_loss: 0.7489\n",
      "Epoch 19/100\n",
      "13/13 [==============================] - 26s 2s/step - d_loss: 0.6852 - g_loss: 0.7507\n",
      "Epoch 20/100\n",
      "13/13 [==============================] - 29s 2s/step - d_loss: 0.6850 - g_loss: 0.7523\n",
      "Epoch 21/100\n",
      "13/13 [==============================] - 29s 2s/step - d_loss: 0.6857 - g_loss: 0.7542\n",
      "Epoch 22/100\n",
      "13/13 [==============================] - 27s 2s/step - d_loss: 0.6852 - g_loss: 0.7559\n",
      "Epoch 23/100\n",
      "13/13 [==============================] - 32s 2s/step - d_loss: 0.6849 - g_loss: 0.7577\n",
      "Epoch 24/100\n",
      "13/13 [==============================] - 27s 2s/step - d_loss: 0.6832 - g_loss: 0.7594\n",
      "Epoch 25/100\n",
      "13/13 [==============================] - 29s 2s/step - d_loss: 0.6839 - g_loss: 0.7612\n",
      "Epoch 26/100\n",
      "13/13 [==============================] - 34s 3s/step - d_loss: 0.6828 - g_loss: 0.7628\n",
      "Epoch 27/100\n",
      "13/13 [==============================] - 33s 3s/step - d_loss: 0.6830 - g_loss: 0.7647\n",
      "Epoch 28/100\n",
      "13/13 [==============================] - 34s 3s/step - d_loss: 0.6830 - g_loss: 0.7666\n",
      "Epoch 29/100\n",
      "13/13 [==============================] - 29s 2s/step - d_loss: 0.6827 - g_loss: 0.7683\n",
      "Epoch 30/100\n",
      "13/13 [==============================] - 30s 2s/step - d_loss: 0.6828 - g_loss: 0.7701\n",
      "Epoch 31/100\n",
      "13/13 [==============================] - 29s 2s/step - d_loss: 0.6828 - g_loss: 0.7717\n",
      "Epoch 32/100\n",
      "13/13 [==============================] - 35s 3s/step - d_loss: 0.6807 - g_loss: 0.7734\n",
      "Epoch 33/100\n",
      "13/13 [==============================] - 33s 3s/step - d_loss: 0.6819 - g_loss: 0.7754\n",
      "Epoch 34/100\n",
      "13/13 [==============================] - 29s 2s/step - d_loss: 0.6823 - g_loss: 0.7771\n",
      "Epoch 35/100\n",
      "13/13 [==============================] - 29s 2s/step - d_loss: 0.6825 - g_loss: 0.7789\n",
      "Epoch 36/100\n",
      "13/13 [==============================] - 31s 2s/step - d_loss: 0.6808 - g_loss: 0.7805\n",
      "Epoch 37/100\n",
      "13/13 [==============================] - 28s 2s/step - d_loss: 0.6806 - g_loss: 0.7820\n",
      "Epoch 38/100\n",
      "13/13 [==============================] - 25s 2s/step - d_loss: 0.6813 - g_loss: 0.7837\n",
      "Epoch 39/100\n",
      "13/13 [==============================] - 33s 2s/step - d_loss: 0.6804 - g_loss: 0.7853\n",
      "Epoch 40/100\n",
      "13/13 [==============================] - 24s 2s/step - d_loss: 0.6803 - g_loss: 0.7870\n",
      "Epoch 41/100\n",
      "13/13 [==============================] - 38s 3s/step - d_loss: 0.6793 - g_loss: 0.7886\n",
      "Epoch 42/100\n",
      "13/13 [==============================] - 41s 3s/step - d_loss: 0.6796 - g_loss: 0.7902\n",
      "Epoch 43/100\n",
      "13/13 [==============================] - 43s 3s/step - d_loss: 0.6805 - g_loss: 0.7917\n",
      "Epoch 44/100\n",
      "13/13 [==============================] - 27s 2s/step - d_loss: 0.6783 - g_loss: 0.7932\n",
      "Epoch 45/100\n",
      "13/13 [==============================] - 41s 3s/step - d_loss: 0.6791 - g_loss: 0.7947\n",
      "Epoch 46/100\n",
      "13/13 [==============================] - 40s 3s/step - d_loss: 0.6792 - g_loss: 0.7962\n",
      "Epoch 47/100\n",
      "13/13 [==============================] - 42s 3s/step - d_loss: 0.6787 - g_loss: 0.7976\n",
      "Epoch 48/100\n",
      "13/13 [==============================] - 41s 3s/step - d_loss: 0.6818 - g_loss: 0.7991\n",
      "Epoch 49/100\n",
      "13/13 [==============================] - 42s 3s/step - d_loss: 0.6800 - g_loss: 0.8003\n",
      "Epoch 50/100\n",
      "13/13 [==============================] - 42s 3s/step - d_loss: 0.6796 - g_loss: 0.8014\n",
      "Epoch 51/100\n",
      "13/13 [==============================] - 41s 3s/step - d_loss: 0.6796 - g_loss: 0.8028\n",
      "Epoch 52/100\n",
      "13/13 [==============================] - 41s 3s/step - d_loss: 0.6792 - g_loss: 0.8040\n",
      "Epoch 53/100\n",
      "13/13 [==============================] - 42s 3s/step - d_loss: 0.6800 - g_loss: 0.8051\n",
      "Epoch 54/100\n",
      "13/13 [==============================] - 24s 2s/step - d_loss: 0.6804 - g_loss: 0.8063\n",
      "Epoch 55/100\n",
      "13/13 [==============================] - 23s 2s/step - d_loss: 0.6789 - g_loss: 0.8073\n",
      "Epoch 56/100\n",
      "13/13 [==============================] - 23s 2s/step - d_loss: 0.6803 - g_loss: 0.8083\n",
      "Epoch 57/100\n",
      "13/13 [==============================] - 23s 2s/step - d_loss: 0.6807 - g_loss: 0.8093\n",
      "Epoch 58/100\n",
      "13/13 [==============================] - 23s 2s/step - d_loss: 0.6796 - g_loss: 0.8103\n",
      "Epoch 59/100\n",
      "13/13 [==============================] - 24s 2s/step - d_loss: 0.6778 - g_loss: 0.8113\n",
      "Epoch 60/100\n",
      "13/13 [==============================] - 28s 2s/step - d_loss: 0.6794 - g_loss: 0.8124\n",
      "Epoch 61/100\n",
      "13/13 [==============================] - 25s 2s/step - d_loss: 0.6781 - g_loss: 0.8136\n",
      "Epoch 62/100\n",
      "13/13 [==============================] - 31s 2s/step - d_loss: 0.6789 - g_loss: 0.8147\n",
      "Epoch 63/100\n",
      "13/13 [==============================] - 31s 2s/step - d_loss: 0.6777 - g_loss: 0.8158\n",
      "Epoch 64/100\n",
      "13/13 [==============================] - 28s 2s/step - d_loss: 0.6779 - g_loss: 0.8170\n",
      "Epoch 65/100\n",
      "13/13 [==============================] - 24s 2s/step - d_loss: 0.6786 - g_loss: 0.8180\n",
      "Epoch 66/100\n",
      "13/13 [==============================] - 32s 3s/step - d_loss: 0.6775 - g_loss: 0.8192\n",
      "Epoch 67/100\n",
      "13/13 [==============================] - 28s 2s/step - d_loss: 0.6781 - g_loss: 0.8202\n",
      "Epoch 68/100\n",
      "13/13 [==============================] - 28s 2s/step - d_loss: 0.6774 - g_loss: 0.8213\n",
      "Epoch 69/100\n",
      "13/13 [==============================] - 26s 2s/step - d_loss: 0.6790 - g_loss: 0.8222\n",
      "Epoch 70/100\n",
      "13/13 [==============================] - 26s 2s/step - d_loss: 0.6774 - g_loss: 0.8231\n",
      "Epoch 71/100\n",
      "13/13 [==============================] - 30s 2s/step - d_loss: 0.6771 - g_loss: 0.8239\n",
      "Epoch 72/100\n",
      "13/13 [==============================] - 32s 2s/step - d_loss: 0.6801 - g_loss: 0.8249\n",
      "Epoch 73/100\n",
      "13/13 [==============================] - 29s 2s/step - d_loss: 0.6776 - g_loss: 0.8256\n",
      "Epoch 74/100\n",
      "13/13 [==============================] - 28s 2s/step - d_loss: 0.6789 - g_loss: 0.8265\n",
      "Epoch 75/100\n",
      "13/13 [==============================] - 24s 2s/step - d_loss: 0.6777 - g_loss: 0.8273\n",
      "Epoch 76/100\n",
      "13/13 [==============================] - 27s 2s/step - d_loss: 0.6756 - g_loss: 0.8281\n",
      "Epoch 77/100\n",
      "13/13 [==============================] - 30s 2s/step - d_loss: 0.6775 - g_loss: 0.8291\n",
      "Epoch 78/100\n",
      "13/13 [==============================] - 30s 2s/step - d_loss: 0.6770 - g_loss: 0.8300\n",
      "Epoch 79/100\n",
      "13/13 [==============================] - 27s 2s/step - d_loss: 0.6768 - g_loss: 0.8309\n",
      "Epoch 80/100\n",
      "13/13 [==============================] - 29s 2s/step - d_loss: 0.6792 - g_loss: 0.8315\n",
      "Epoch 81/100\n",
      "13/13 [==============================] - 27s 2s/step - d_loss: 0.6764 - g_loss: 0.8320\n",
      "Epoch 82/100\n",
      "13/13 [==============================] - 30s 2s/step - d_loss: 0.6772 - g_loss: 0.8329\n",
      "Epoch 83/100\n",
      "13/13 [==============================] - 28s 2s/step - d_loss: 0.6779 - g_loss: 0.8335\n",
      "Epoch 84/100\n",
      "13/13 [==============================] - 40s 3s/step - d_loss: 0.6777 - g_loss: 0.8341\n",
      "Epoch 85/100\n",
      "13/13 [==============================] - 42s 3s/step - d_loss: 0.6782 - g_loss: 0.8347\n",
      "Epoch 86/100\n",
      "13/13 [==============================] - 40s 3s/step - d_loss: 0.6771 - g_loss: 0.8352\n",
      "Epoch 87/100\n",
      "13/13 [==============================] - 40s 3s/step - d_loss: 0.6778 - g_loss: 0.8358\n",
      "Epoch 88/100\n",
      "13/13 [==============================] - 42s 3s/step - d_loss: 0.6763 - g_loss: 0.8363\n",
      "Epoch 89/100\n",
      "13/13 [==============================] - 40s 3s/step - d_loss: 0.6775 - g_loss: 0.8370\n",
      "Epoch 90/100\n",
      "13/13 [==============================] - 40s 3s/step - d_loss: 0.6754 - g_loss: 0.8375\n",
      "Epoch 91/100\n",
      "13/13 [==============================] - 41s 3s/step - d_loss: 0.6772 - g_loss: 0.8382\n",
      "Epoch 92/100\n",
      "13/13 [==============================] - 34s 3s/step - d_loss: 0.6762 - g_loss: 0.8388\n",
      "Epoch 93/100\n",
      "13/13 [==============================] - 23s 2s/step - d_loss: 0.6759 - g_loss: 0.8394\n",
      "Epoch 94/100\n",
      "13/13 [==============================] - 28s 2s/step - d_loss: 0.6749 - g_loss: 0.8401\n",
      "Epoch 95/100\n",
      "13/13 [==============================] - 24s 2s/step - d_loss: 0.6745 - g_loss: 0.8409\n",
      "Epoch 96/100\n",
      "13/13 [==============================] - 26s 2s/step - d_loss: 0.6755 - g_loss: 0.8416\n",
      "Epoch 97/100\n",
      "13/13 [==============================] - 25s 2s/step - d_loss: 0.6756 - g_loss: 0.8420\n",
      "Epoch 98/100\n",
      "13/13 [==============================] - 33s 3s/step - d_loss: 0.6764 - g_loss: 0.8426\n",
      "Epoch 99/100\n",
      "13/13 [==============================] - 31s 2s/step - d_loss: 0.6756 - g_loss: 0.8431\n",
      "Epoch 100/100\n",
      "13/13 [==============================] - 42s 3s/step - d_loss: 0.6757 - g_loss: 0.8438\n"
     ]
    }
   ],
   "source": [
    "hist = loadgan.fit(ds_w, epochs=100, callbacks=[ModelMonitor()])"
   ],
   "metadata": {
    "collapsed": false,
    "ExecuteTime": {
     "end_time": "2024-02-13T21:12:47.011348800Z",
     "start_time": "2024-02-13T20:21:41.776826400Z"
    }
   }
  },
  {
   "cell_type": "code",
   "execution_count": 104,
   "outputs": [
    {
     "name": "stderr",
     "output_type": "stream",
     "text": [
      "C:\\Users\\Feri\\AppData\\Roaming\\Python\\Python310\\site-packages\\tensorflow\\python\\data\\ops\\structured_function.py:256: UserWarning: Even though the `tf.config.experimental_run_functions_eagerly` option is set, this option does not apply to tf.data functions. To force eager execution of tf.data functions, please use `tf.data.experimental.enable_debug_mode()`.\n",
      "  warnings.warn(\n"
     ]
    },
    {
     "ename": "ValueError",
     "evalue": "Exception encountered when calling layer 'sequential_36' (type Sequential).\n\nInput 0 of layer \"lstm_67\" is incompatible with the layer: expected shape=(None, None, 15), found shape=(4, 96, 1)\n\nCall arguments received by layer 'sequential_36' (type Sequential):\n  • inputs=tf.Tensor(shape=(4, 96, 1), dtype=float32)\n  • training=False\n  • mask=None",
     "output_type": "error",
     "traceback": [
      "\u001B[1;31m---------------------------------------------------------------------------\u001B[0m",
      "\u001B[1;31mValueError\u001B[0m                                Traceback (most recent call last)",
      "Cell \u001B[1;32mIn[104], line 2\u001B[0m\n\u001B[0;32m      1\u001B[0m normal_noise \u001B[38;5;241m=\u001B[39m tf\u001B[38;5;241m.\u001B[39mrandom\u001B[38;5;241m.\u001B[39mnormal((\u001B[38;5;241m4\u001B[39m, \u001B[38;5;241m96\u001B[39m, \u001B[38;5;241m1\u001B[39m))\n\u001B[1;32m----> 2\u001B[0m series \u001B[38;5;241m=\u001B[39m \u001B[43mgenerator\u001B[49m\u001B[38;5;241;43m.\u001B[39;49m\u001B[43mpredict\u001B[49m\u001B[43m(\u001B[49m\u001B[43mnormal_noise\u001B[49m\u001B[43m)\u001B[49m\n\u001B[0;32m      3\u001B[0m resolution \u001B[38;5;241m=\u001B[39m \u001B[38;5;241m24\u001B[39m\u001B[38;5;241m*\u001B[39m\u001B[38;5;241m4\u001B[39m\n\u001B[0;32m      4\u001B[0m ticks \u001B[38;5;241m=\u001B[39m []\n",
      "File \u001B[1;32m~\\AppData\\Local\\Programs\\Python\\Python310\\lib\\site-packages\\keras\\utils\\traceback_utils.py:70\u001B[0m, in \u001B[0;36mfilter_traceback.<locals>.error_handler\u001B[1;34m(*args, **kwargs)\u001B[0m\n\u001B[0;32m     67\u001B[0m     filtered_tb \u001B[38;5;241m=\u001B[39m _process_traceback_frames(e\u001B[38;5;241m.\u001B[39m__traceback__)\n\u001B[0;32m     68\u001B[0m     \u001B[38;5;66;03m# To get the full stack trace, call:\u001B[39;00m\n\u001B[0;32m     69\u001B[0m     \u001B[38;5;66;03m# `tf.debugging.disable_traceback_filtering()`\u001B[39;00m\n\u001B[1;32m---> 70\u001B[0m     \u001B[38;5;28;01mraise\u001B[39;00m e\u001B[38;5;241m.\u001B[39mwith_traceback(filtered_tb) \u001B[38;5;28;01mfrom\u001B[39;00m \u001B[38;5;28;01mNone\u001B[39;00m\n\u001B[0;32m     71\u001B[0m \u001B[38;5;28;01mfinally\u001B[39;00m:\n\u001B[0;32m     72\u001B[0m     \u001B[38;5;28;01mdel\u001B[39;00m filtered_tb\n",
      "File \u001B[1;32m~\\AppData\\Local\\Programs\\Python\\Python310\\lib\\site-packages\\keras\\engine\\input_spec.py:295\u001B[0m, in \u001B[0;36massert_input_compatibility\u001B[1;34m(input_spec, inputs, layer_name)\u001B[0m\n\u001B[0;32m    293\u001B[0m \u001B[38;5;28;01mif\u001B[39;00m spec_dim \u001B[38;5;129;01mis\u001B[39;00m \u001B[38;5;129;01mnot\u001B[39;00m \u001B[38;5;28;01mNone\u001B[39;00m \u001B[38;5;129;01mand\u001B[39;00m dim \u001B[38;5;129;01mis\u001B[39;00m \u001B[38;5;129;01mnot\u001B[39;00m \u001B[38;5;28;01mNone\u001B[39;00m:\n\u001B[0;32m    294\u001B[0m     \u001B[38;5;28;01mif\u001B[39;00m spec_dim \u001B[38;5;241m!=\u001B[39m dim:\n\u001B[1;32m--> 295\u001B[0m         \u001B[38;5;28;01mraise\u001B[39;00m \u001B[38;5;167;01mValueError\u001B[39;00m(\n\u001B[0;32m    296\u001B[0m             \u001B[38;5;124mf\u001B[39m\u001B[38;5;124m'\u001B[39m\u001B[38;5;124mInput \u001B[39m\u001B[38;5;132;01m{\u001B[39;00minput_index\u001B[38;5;132;01m}\u001B[39;00m\u001B[38;5;124m of layer \u001B[39m\u001B[38;5;124m\"\u001B[39m\u001B[38;5;132;01m{\u001B[39;00mlayer_name\u001B[38;5;132;01m}\u001B[39;00m\u001B[38;5;124m\"\u001B[39m\u001B[38;5;124m is \u001B[39m\u001B[38;5;124m'\u001B[39m\n\u001B[0;32m    297\u001B[0m             \u001B[38;5;124m\"\u001B[39m\u001B[38;5;124mincompatible with the layer: \u001B[39m\u001B[38;5;124m\"\u001B[39m\n\u001B[0;32m    298\u001B[0m             \u001B[38;5;124mf\u001B[39m\u001B[38;5;124m\"\u001B[39m\u001B[38;5;124mexpected shape=\u001B[39m\u001B[38;5;132;01m{\u001B[39;00mspec\u001B[38;5;241m.\u001B[39mshape\u001B[38;5;132;01m}\u001B[39;00m\u001B[38;5;124m, \u001B[39m\u001B[38;5;124m\"\u001B[39m\n\u001B[0;32m    299\u001B[0m             \u001B[38;5;124mf\u001B[39m\u001B[38;5;124m\"\u001B[39m\u001B[38;5;124mfound shape=\u001B[39m\u001B[38;5;132;01m{\u001B[39;00mdisplay_shape(x\u001B[38;5;241m.\u001B[39mshape)\u001B[38;5;132;01m}\u001B[39;00m\u001B[38;5;124m\"\u001B[39m\n\u001B[0;32m    300\u001B[0m         )\n",
      "\u001B[1;31mValueError\u001B[0m: Exception encountered when calling layer 'sequential_36' (type Sequential).\n\nInput 0 of layer \"lstm_67\" is incompatible with the layer: expected shape=(None, None, 15), found shape=(4, 96, 1)\n\nCall arguments received by layer 'sequential_36' (type Sequential):\n  • inputs=tf.Tensor(shape=(4, 96, 1), dtype=float32)\n  • training=False\n  • mask=None"
     ]
    }
   ],
   "source": [
    "normal_noise = tf.random.normal((4, 96, 15))\n",
    "series = generator.predict(normal_noise)\n",
    "resolution = 24*4\n",
    "ticks = []\n",
    "'''for i in range(resolution):\n",
    "    if i%4 == 0:\n",
    "        ticks.append(str(int(i/4)))\n",
    "    else:\n",
    "        ticks.append('')'''\n",
    "\n",
    "fig, ax = plt.subplots(1, 2, figsize=(15, 4), dpi=200)\n",
    "for s in series:\n",
    "    ax[0].plot(range(resolution), np.multiply(s.reshape([resolution]), max_w), linewidth=1)\n",
    "ax[0].set_xlabel('Hour of Day')\n",
    "ax[0].set_ylabel('Generated Power Consumption')\n",
    "ax[0].set_xticks(range(resolution), ticks)\n",
    "\n",
    "ax[1].plot(my_data[[c for c in my_data.columns[:30] if 'weekday' in c]], linewidth=1)\n",
    "ax[1].set_xlabel('Hour of Day')\n",
    "ax[1].set_ylabel('Historical Power Consumption')\n",
    "ax[1].set_xticks(range(resolution), ticks)\n",
    "plt.show()\n",
    "#plt.savefig(f'../HarrisCounty/IMG/Batch {batch_size}-g_a {g_a}-d_a {d_a}-relu {g_relu}-dropout {d_dropout}.jpg')"
   ],
   "metadata": {
    "collapsed": false,
    "ExecuteTime": {
     "end_time": "2024-02-13T20:13:07.590635700Z",
     "start_time": "2024-02-13T20:13:07.471530700Z"
    }
   }
  },
  {
   "cell_type": "code",
   "execution_count": 87,
   "outputs": [
    {
     "data": {
      "text/plain": "array([0.27908119, 0.2759418 , 0.27463341, 0.27405271, 0.27432569,\n       0.27313007, 0.27858002, 0.27364891, 0.27608115, 0.27181148,\n       0.27016231, 0.27060353, 0.27004301, 0.26987569, 0.27066322,\n       0.27330752, 0.2778053 , 0.28101921, 0.28935684, 0.29437885,\n       0.30389723, 0.33307793, 0.34405041, 0.36289508, 0.38296953,\n       0.3904404 , 0.30405398, 0.32075887, 0.33629515, 0.33731308,\n       0.35428984, 0.36416878, 0.38175299, 0.387709  , 0.40770009,\n       0.41751363, 0.50162191, 0.47434448, 0.52666341, 0.53291421,\n       0.56093852, 0.58824933, 0.60970465, 0.64027751, 0.65239148,\n       0.66913008, 0.67112885, 0.67677692, 0.68230252, 0.69032767,\n       0.69878317, 0.70485187, 0.7038729 , 0.70826203, 0.71423653,\n       0.7212561 , 0.72012173, 0.72302043, 0.71559406, 0.70867889,\n       0.69856939, 0.69000608, 0.65998895, 0.63536303, 0.62621779,\n       0.61607444, 0.58153808, 0.570353  , 0.53930612, 0.50313002,\n       0.48843719, 0.4723261 , 0.46238534, 0.44552964, 0.40714386,\n       0.37695569, 0.35834097, 0.34849895, 0.33231082, 0.31478659,\n       0.29779826, 0.41972983, 0.40731824, 0.39458549, 0.32497749,\n       0.3254483 , 0.32290059, 0.32131586, 0.31488327, 0.31134908,\n       0.31161605, 0.30322966, 0.29606734, 0.29248199, 0.29011328,\n       0.288225  ])"
     },
     "execution_count": 87,
     "metadata": {},
     "output_type": "execute_result"
    }
   ],
   "source": [
    "ds_w.as_numpy_iterator().next()[0]"
   ],
   "metadata": {
    "collapsed": false,
    "ExecuteTime": {
     "end_time": "2024-02-13T20:04:08.635122400Z",
     "start_time": "2024-02-13T20:04:08.577821500Z"
    }
   }
  },
  {
   "cell_type": "code",
   "execution_count": 98,
   "outputs": [
    {
     "data": {
      "text/plain": "<Figure size 500x300 with 1 Axes>",
      "image/png": "[encoded data removed]"
     },
     "metadata": {},
     "output_type": "display_data"
    }
   ],
   "source": [
    "plt.figure(figsize=(5, 3), dpi=100)\n",
    "plt.suptitle('Loss')\n",
    "plt.plot(hist.history['d_loss'], label='Discriminator Loss')\n",
    "plt.plot(hist.history['g_loss'], label='Generator Loss')\n",
    "plt.legend()\n",
    "plt.show()"
   ],
   "metadata": {
    "collapsed": false,
    "ExecuteTime": {
     "end_time": "2024-02-13T20:09:56.155907100Z",
     "start_time": "2024-02-13T20:09:56.017711500Z"
    }
   }
  },
  {
   "cell_type": "code",
   "execution_count": null,
   "outputs": [],
   "source": [
    "generator.save('generator.h5')\n",
    "discriminator.save('discriminator.h5')"
   ],
   "metadata": {
    "collapsed": false
   }
  }
 ],
 "metadata": {
  "kernelspec": {
   "display_name": "Python 3",
   "language": "python",
   "name": "python3"
  },
  "language_info": {
   "codemirror_mode": {
    "name": "ipython",
    "version": 2
   },
   "file_extension": ".py",
   "mimetype": "text/x-python",
   "name": "python",
   "nbconvert_exporter": "python",
   "pygments_lexer": "ipython2",
   "version": "2.7.6"
  }
 },
 "nbformat": 4,
 "nbformat_minor": 0
}
