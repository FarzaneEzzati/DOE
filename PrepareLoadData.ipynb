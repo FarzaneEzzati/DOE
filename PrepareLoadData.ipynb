{
 "cells": [
  {
   "cell_type": "code",
   "execution_count": null,
   "metadata": {
    "collapsed": true,
    "is_executing": true
   },
   "outputs": [],
   "source": [
    "import pandas as pd\n",
    "import numpy as np\n",
    "import matplotlib.pyplot as plt"
   ]
  },
  {
   "cell_type": "code",
   "execution_count": 33,
   "outputs": [],
   "source": [
    "L_all = {i: {j: [] for j in range(1, 13)} for i in range(1, 31)}\n",
    "L_probs = {i: 1 for i in range(1, 31)}\n",
    "month_counter = 1\n",
    "for m in ['JanFeb', 'MarApr', 'MayJun', 'JulAug', 'SepOct', 'NovDec']:\n",
    "    dw = pd.read_csv(f'Scenarios/Load Demand/HarrisCounty/LoadScenarios-{m}-w.csv')\n",
    "    de = pd.read_csv(f'Scenarios/Load Demand/HarrisCounty/LoadScenarios-{m}-e.csv')\n",
    "    cols = dw.columns[2:99]\n",
    "\n",
    "    for i in range(1, 31):\n",
    "        L_probs[i] = L_probs[i] * (dw['probs'].iloc[i-1] * de['probs'].iloc[i-1])\n",
    "\n",
    "        dw_single = dw[cols].iloc[i-1]\n",
    "        de_single = de[cols].iloc[i - 1]\n",
    "        week_long = pd.concat([dw_single, dw_single, dw_single, dw_single, dw_single, de_single, de_single])\n",
    "        week_long_hourly = []\n",
    "        for j in range(1, 169):\n",
    "            loc = (j-1)*4\n",
    "            summ = sum(week_long[loc + k] for k in range(4))\n",
    "            week_long_hourly.append(summ)\n",
    "        L_all[i][month_counter] = week_long_hourly\n",
    "        L_all[i][month_counter+1] = week_long_hourly\n",
    "    month_counter += 2"
   ],
   "metadata": {
    "collapsed": false,
    "ExecuteTime": {
     "end_time": "2024-02-21T15:27:16.330091200Z",
     "start_time": "2024-02-21T15:27:15.281979200Z"
    }
   }
  },
  {
   "cell_type": "code",
   "execution_count": 45,
   "outputs": [
    {
     "data": {
      "text/plain": "    Norm Error  Gamma Scenario  Probability\n0           -2        0.077417     0.060598\n1           -2        0.077417     0.060598\n2           -1        1.092246     0.241730\n3           -1        1.092246     0.241730\n4           -1        1.092246     0.241730\n5           -1        1.092246     0.241730\n6           -1        1.092246     0.241730\n7           -1        1.092246     0.241730\n8           -1        1.092246     0.241730\n9            0       10.304032     0.382925\n10           0       10.304032     0.382925\n11           0       10.304032     0.382925\n12           0       10.304032     0.382925\n13           0       10.304032     0.382925\n14           0       10.304032     0.382925\n15           0       10.304032     0.382925\n16           0       10.304032     0.382925\n17           0       10.304032     0.382925\n18           0       10.304032     0.382925\n19           0       10.304032     0.382925\n20           0       10.304032     0.382925\n21           1       42.051200     0.241730\n22           1       42.051200     0.241730\n23           1       42.051200     0.241730\n24           1       42.051200     0.241730\n25           1       42.051200     0.241730\n26           1       42.051200     0.241730\n27           1       42.051200     0.241730\n28           2      106.660278     0.060598\n29           3      208.317492     0.005977",
      "text/html": "<div>\n<style scoped>\n    .dataframe tbody tr th:only-of-type {\n        vertical-align: middle;\n    }\n\n    .dataframe tbody tr th {\n        vertical-align: top;\n    }\n\n    .dataframe thead th {\n        text-align: right;\n    }\n</style>\n<table border=\"1\" class=\"dataframe\">\n  <thead>\n    <tr style=\"text-align: right;\">\n      <th></th>\n      <th>Norm Error</th>\n      <th>Gamma Scenario</th>\n      <th>Probability</th>\n    </tr>\n  </thead>\n  <tbody>\n    <tr>\n      <th>0</th>\n      <td>-2</td>\n      <td>0.077417</td>\n      <td>0.060598</td>\n    </tr>\n    <tr>\n      <th>1</th>\n      <td>-2</td>\n      <td>0.077417</td>\n      <td>0.060598</td>\n    </tr>\n    <tr>\n      <th>2</th>\n      <td>-1</td>\n      <td>1.092246</td>\n      <td>0.241730</td>\n    </tr>\n    <tr>\n      <th>3</th>\n      <td>-1</td>\n      <td>1.092246</td>\n      <td>0.241730</td>\n    </tr>\n    <tr>\n      <th>4</th>\n      <td>-1</td>\n      <td>1.092246</td>\n      <td>0.241730</td>\n    </tr>\n    <tr>\n      <th>5</th>\n      <td>-1</td>\n      <td>1.092246</td>\n      <td>0.241730</td>\n    </tr>\n    <tr>\n      <th>6</th>\n      <td>-1</td>\n      <td>1.092246</td>\n      <td>0.241730</td>\n    </tr>\n    <tr>\n      <th>7</th>\n      <td>-1</td>\n      <td>1.092246</td>\n      <td>0.241730</td>\n    </tr>\n    <tr>\n      <th>8</th>\n      <td>-1</td>\n      <td>1.092246</td>\n      <td>0.241730</td>\n    </tr>\n    <tr>\n      <th>9</th>\n      <td>0</td>\n      <td>10.304032</td>\n      <td>0.382925</td>\n    </tr>\n    <tr>\n      <th>10</th>\n      <td>0</td>\n      <td>10.304032</td>\n      <td>0.382925</td>\n    </tr>\n    <tr>\n      <th>11</th>\n      <td>0</td>\n      <td>10.304032</td>\n      <td>0.382925</td>\n    </tr>\n    <tr>\n      <th>12</th>\n      <td>0</td>\n      <td>10.304032</td>\n      <td>0.382925</td>\n    </tr>\n    <tr>\n      <th>13</th>\n      <td>0</td>\n      <td>10.304032</td>\n      <td>0.382925</td>\n    </tr>\n    <tr>\n      <th>14</th>\n      <td>0</td>\n      <td>10.304032</td>\n      <td>0.382925</td>\n    </tr>\n    <tr>\n      <th>15</th>\n      <td>0</td>\n      <td>10.304032</td>\n      <td>0.382925</td>\n    </tr>\n    <tr>\n      <th>16</th>\n      <td>0</td>\n      <td>10.304032</td>\n      <td>0.382925</td>\n    </tr>\n    <tr>\n      <th>17</th>\n      <td>0</td>\n      <td>10.304032</td>\n      <td>0.382925</td>\n    </tr>\n    <tr>\n      <th>18</th>\n      <td>0</td>\n      <td>10.304032</td>\n      <td>0.382925</td>\n    </tr>\n    <tr>\n      <th>19</th>\n      <td>0</td>\n      <td>10.304032</td>\n      <td>0.382925</td>\n    </tr>\n    <tr>\n      <th>20</th>\n      <td>0</td>\n      <td>10.304032</td>\n      <td>0.382925</td>\n    </tr>\n    <tr>\n      <th>21</th>\n      <td>1</td>\n      <td>42.051200</td>\n      <td>0.241730</td>\n    </tr>\n    <tr>\n      <th>22</th>\n      <td>1</td>\n      <td>42.051200</td>\n      <td>0.241730</td>\n    </tr>\n    <tr>\n      <th>23</th>\n      <td>1</td>\n      <td>42.051200</td>\n      <td>0.241730</td>\n    </tr>\n    <tr>\n      <th>24</th>\n      <td>1</td>\n      <td>42.051200</td>\n      <td>0.241730</td>\n    </tr>\n    <tr>\n      <th>25</th>\n      <td>1</td>\n      <td>42.051200</td>\n      <td>0.241730</td>\n    </tr>\n    <tr>\n      <th>26</th>\n      <td>1</td>\n      <td>42.051200</td>\n      <td>0.241730</td>\n    </tr>\n    <tr>\n      <th>27</th>\n      <td>1</td>\n      <td>42.051200</td>\n      <td>0.241730</td>\n    </tr>\n    <tr>\n      <th>28</th>\n      <td>2</td>\n      <td>106.660278</td>\n      <td>0.060598</td>\n    </tr>\n    <tr>\n      <th>29</th>\n      <td>3</td>\n      <td>208.317492</td>\n      <td>0.005977</td>\n    </tr>\n  </tbody>\n</table>\n</div>"
     },
     "execution_count": 45,
     "metadata": {},
     "output_type": "execute_result"
    }
   ],
   "source": [
    "if True:\n",
    "    OT = pd.read_csv('Scenarios/Outage/Outage Scenarios - reduced.csv')\n",
    "\n",
    "    Outage = {i+1: OT['Gamma Scenario'].iloc[i] for i in range(len(OT))}\n",
    "OT"
   ],
   "metadata": {
    "collapsed": false,
    "ExecuteTime": {
     "end_time": "2024-02-21T16:24:18.391006300Z",
     "start_time": "2024-02-21T16:24:18.363873600Z"
    }
   }
  }
 ],
 "metadata": {
  "kernelspec": {
   "display_name": "Python 3",
   "language": "python",
   "name": "python3"
  },
  "language_info": {
   "codemirror_mode": {
    "name": "ipython",
    "version": 2
   },
   "file_extension": ".py",
   "mimetype": "text/x-python",
   "name": "python",
   "nbconvert_exporter": "python",
   "pygments_lexer": "ipython2",
   "version": "2.7.6"
  }
 },
 "nbformat": 4,
 "nbformat_minor": 0
}
